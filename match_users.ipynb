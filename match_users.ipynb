{
 "cells": [
  {
   "cell_type": "markdown",
   "id": "cac1acdb",
   "metadata": {},
   "source": [
    "# Match users based on common attributes"
   ]
  },
  {
   "cell_type": "code",
   "execution_count": 18,
   "id": "a06c76b8",
   "metadata": {},
   "outputs": [],
   "source": [
    "import pandas as pd\n",
    "import ast\n",
    "\n",
    "def calculate_compatibility(user1, user2):\n",
    "    score = 0\n",
    "    \n",
    "    interests1 = set(ast.literal_eval(user1['interests']))\n",
    "    interests2 = set(ast.literal_eval(user2['interests']))\n",
    "    score += len(interests1.intersection(interests2)) * 10\n",
    "\n",
    "    languages1 = set(ast.literal_eval(user1['languages']))\n",
    "    languages2 = set(ast.literal_eval(user2['languages']))\n",
    "    score += len(languages1.intersection(languages2)) * 30\n",
    "\n",
    "    if user1['travelStyle'] == user2['travelStyle']:\n",
    "        score += 25\n",
    "\n",
    "    activities1 = set(ast.literal_eval(user1['preferredActivities']))\n",
    "    activities2 = set(ast.literal_eval(user2['preferredActivities']))\n",
    "    score += len(activities1.intersection(activities2)) * 10\n",
    "\n",
    "    countries1 = set(ast.literal_eval(user1['preferredCountries']))\n",
    "    countries2 = set(ast.literal_eval(user2['preferredCountries']))\n",
    "    score += len(countries1.intersection(countries2)) * 20\n",
    "    \n",
    "    return score\n",
    "\n",
    "def find_matches(user_id, users_df):\n",
    "    current_user = users_df.loc[users_df['userId'] == user_id].iloc[0]\n",
    "    \n",
    "    target_user_type = 'Guide' if current_user['userType'] == 'Traveler' else 'Traveler'\n",
    "    potential_matches = users_df[users_df['userType'] == target_user_type].copy()\n",
    "    \n",
    "    disliked_ids = ast.literal_eval(current_user['dislikedUserIds'])\n",
    "    potential_matches = potential_matches[~potential_matches['userId'].isin(disliked_ids)]\n",
    "\n",
    "    scores = []\n",
    "    for index, potential_match in potential_matches.iterrows():\n",
    "        if potential_match['userId'] == user_id:\n",
    "            continue\n",
    "        score = calculate_compatibility(current_user, potential_match)\n",
    "        scores.append((potential_match['userName'], potential_match['userId'], score))\n",
    "        \n",
    "    scores.sort(key=lambda x: x[2], reverse=True)\n",
    "    \n",
    "    return scores\n"
   ]
  },
  {
   "cell_type": "code",
   "execution_count": 20,
   "id": "721cc629",
   "metadata": {},
   "outputs": [
    {
     "name": "stdout",
     "output_type": "stream",
     "text": [
      "Top matches for user 4:\n",
      "  - User: Karim (ID: 42), Compatibility Score: 80\n",
      "  - User: Khaled (ID: 6), Compatibility Score: 75\n",
      "  - User: Mustafa (ID: 15), Compatibility Score: 70\n",
      "  - User: Yasmin (ID: 48), Compatibility Score: 70\n",
      "  - User: Salma (ID: 7), Compatibility Score: 65\n",
      "  - User: Assil (ID: 27), Compatibility Score: 65\n",
      "  - User: Laila (ID: 5), Compatibility Score: 60\n",
      "  - User: Mustafa (ID: 24), Compatibility Score: 60\n",
      "  - User: Salma (ID: 34), Compatibility Score: 60\n",
      "  - User: Jana (ID: 22), Compatibility Score: 55\n"
     ]
    }
   ],
   "source": [
    "import pandas as pd\n",
    "users = pd.read_csv(r\"https://raw.githubusercontent.com/galalqassas/tender/refs/heads/main/data/tinder_data/users.csv\")\n",
    "id = 4\n",
    "top_matches = find_matches(id, users)\n",
    "print(f\"Top matches for user {id}:\")\n",
    "for name, user_id, score in top_matches[:10]:\n",
    "    print(f\"  - User: {name} (ID: {user_id}), Compatibility Score: {score}\")"
   ]
  }
 ],
 "metadata": {
  "kernelspec": {
   "display_name": "base",
   "language": "python",
   "name": "python3"
  },
  "language_info": {
   "codemirror_mode": {
    "name": "ipython",
    "version": 3
   },
   "file_extension": ".py",
   "mimetype": "text/x-python",
   "name": "python",
   "nbconvert_exporter": "python",
   "pygments_lexer": "ipython3",
   "version": "3.11.4"
  }
 },
 "nbformat": 4,
 "nbformat_minor": 5
}
